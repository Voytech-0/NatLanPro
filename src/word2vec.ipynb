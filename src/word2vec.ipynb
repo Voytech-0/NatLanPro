{
 "cells": [
  {
   "cell_type": "code",
   "execution_count": 2,
   "id": "initial_id",
   "metadata": {
    "collapsed": true,
    "ExecuteTime": {
     "end_time": "2024-03-01T10:51:12.114046Z",
     "start_time": "2024-03-01T10:51:12.109282Z"
    }
   },
   "outputs": [],
   "source": [
    "from nltk.test.gensim_fixt import setup_module\n",
    "import pandas as pd\n",
    "import gensim\n",
    "\n",
    "# setup_module()"
   ]
  },
  {
   "cell_type": "code",
   "outputs": [],
   "source": [
    "TYPE = '2-gram'"
   ],
   "metadata": {
    "collapsed": false,
    "ExecuteTime": {
     "end_time": "2024-03-01T11:04:01.422370Z",
     "start_time": "2024-03-01T11:04:01.415284Z"
    }
   },
   "id": "d3a75e48f23ab226",
   "execution_count": 44
  },
  {
   "cell_type": "code",
   "outputs": [],
   "source": [
    "import ast\n",
    "\n",
    "df = pd.read_csv('../data/train_ready_for_WS_preprocessed.csv', delimiter=';', header=0)\n",
    "df[TYPE] = df[TYPE].apply(ast.literal_eval)\n",
    "grams = df[TYPE]"
   ],
   "metadata": {
    "collapsed": false,
    "ExecuteTime": {
     "end_time": "2024-03-01T11:04:01.885634Z",
     "start_time": "2024-03-01T11:04:01.663658Z"
    }
   },
   "id": "aa1f56c49f19b041",
   "execution_count": 45
  },
  {
   "cell_type": "code",
   "outputs": [],
   "source": [
    "model = gensim.models.Word2Vec(grams, vector_size=100, window=5, workers=4)"
   ],
   "metadata": {
    "collapsed": false,
    "ExecuteTime": {
     "end_time": "2024-03-01T11:04:02.018008Z",
     "start_time": "2024-03-01T11:04:01.922651Z"
    }
   },
   "id": "628787bde9f42c69",
   "execution_count": 46
  },
  {
   "cell_type": "code",
   "outputs": [],
   "source": [
    "model.save(f'../data/models/{TYPE}_word2vec.model')"
   ],
   "metadata": {
    "collapsed": false,
    "ExecuteTime": {
     "end_time": "2024-03-01T11:04:02.054814Z",
     "start_time": "2024-03-01T11:04:02.043574Z"
    }
   },
   "id": "28020617ad79d4b6",
   "execution_count": 47
  },
  {
   "cell_type": "code",
   "outputs": [
    {
     "name": "stdout",
     "output_type": "stream",
     "text": [
      "[-3.3370603e-03 -3.9002874e-03 -8.0798017e-03 -8.9140600e-03\n",
      "  4.6204762e-03 -7.6538371e-03 -6.6035152e-03 -2.4611880e-03\n",
      "  6.9858185e-03  4.4612908e-03 -4.2023165e-03  2.4098181e-03\n",
      " -5.7483930e-03 -4.2267642e-03  8.4575918e-03 -4.5461219e-04\n",
      " -5.9441119e-03 -6.5140394e-03 -7.9838950e-03 -1.3175868e-02\n",
      " -1.7105304e-03 -2.0903798e-03  1.0388324e-02  2.1697686e-03\n",
      " -6.1975932e-04  1.6632166e-03  2.8820259e-03 -9.2079899e-06\n",
      " -3.6143418e-03 -1.0288493e-03 -6.1500672e-04  7.6538343e-03\n",
      "  1.0165880e-02  8.1113884e-03 -9.7487764e-03 -5.6598950e-03\n",
      " -8.0240304e-03 -1.0780769e-02 -7.3518879e-03  1.1056895e-04\n",
      " -4.2347037e-03  4.0469477e-03 -9.8014688e-03 -8.0700452e-04\n",
      "  5.9172912e-03 -8.7223090e-03  1.8373131e-03 -3.7023269e-03\n",
      "  8.4006330e-03 -7.9160114e-04  3.6054722e-03  1.4908619e-03\n",
      "  5.4947585e-03 -2.3503602e-03  4.8386008e-03  4.2122341e-04\n",
      " -5.9676780e-03  4.3988740e-03  4.4578940e-04  5.0075673e-03\n",
      "  3.6061951e-03 -3.6355574e-03 -8.9948317e-03 -6.8682162e-03\n",
      "  3.5196028e-03  1.8789194e-03 -3.0031418e-03  7.9605905e-03\n",
      " -1.6769691e-03  1.1354454e-02 -1.1023529e-02 -7.7447155e-03\n",
      " -1.8248055e-03  4.7182390e-03 -5.0929477e-03 -4.1689640e-03\n",
      "  5.1596332e-03 -6.0829376e-03  3.4426921e-03  1.3221605e-03\n",
      " -6.7379419e-04  7.4852780e-03 -1.2380943e-02 -8.0064411e-04\n",
      "  2.4648842e-03 -6.7281509e-03  6.2922365e-04 -8.6871337e-04\n",
      "  1.0344619e-02 -3.5118805e-03  1.1242480e-02  8.7842811e-03\n",
      "  7.4957125e-03  3.7269874e-03  8.6411033e-03  7.0008575e-03\n",
      "  7.5626336e-03 -3.5237994e-03  8.1023248e-03  9.4720526e-05]\n"
     ]
    }
   ],
   "source": [
    "# to get the vector of a specific word use. ex. 'sad':\n",
    "word = 'sad see'\n",
    "if word in model.wv:\n",
    "    vector = model.wv[word]\n",
    "    print(vector)"
   ],
   "metadata": {
    "collapsed": false,
    "ExecuteTime": {
     "end_time": "2024-03-01T11:04:06.685194Z",
     "start_time": "2024-03-01T11:04:06.677032Z"
    }
   },
   "id": "2b6743c52888227c",
   "execution_count": 49
  },
  {
   "cell_type": "code",
   "outputs": [],
   "source": [],
   "metadata": {
    "collapsed": false
   },
   "id": "21641412402aa3dc"
  }
 ],
 "metadata": {
  "kernelspec": {
   "display_name": "Python 3",
   "language": "python",
   "name": "python3"
  },
  "language_info": {
   "codemirror_mode": {
    "name": "ipython",
    "version": 2
   },
   "file_extension": ".py",
   "mimetype": "text/x-python",
   "name": "python",
   "nbconvert_exporter": "python",
   "pygments_lexer": "ipython2",
   "version": "2.7.6"
  }
 },
 "nbformat": 4,
 "nbformat_minor": 5
}

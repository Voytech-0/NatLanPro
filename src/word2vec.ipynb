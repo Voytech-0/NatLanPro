{
 "cells": [
  {
   "cell_type": "code",
   "execution_count": 7,
   "id": "initial_id",
   "metadata": {
    "collapsed": true,
    "ExecuteTime": {
     "end_time": "2024-03-01T14:57:25.285956Z",
     "start_time": "2024-03-01T14:57:25.273566Z"
    }
   },
   "outputs": [],
   "source": [
    "from nltk.test.gensim_fixt import setup_module\n",
    "import pandas as pd\n",
    "import gensim\n",
    "\n",
    "# setup_module()"
   ]
  },
  {
   "cell_type": "code",
   "outputs": [],
   "source": [
    "TYPE = '2-gram'"
   ],
   "metadata": {
    "collapsed": false,
    "ExecuteTime": {
     "end_time": "2024-03-01T14:57:25.314823Z",
     "start_time": "2024-03-01T14:57:25.292666Z"
    }
   },
   "id": "d3a75e48f23ab226",
   "execution_count": 8
  },
  {
   "cell_type": "code",
   "outputs": [],
   "source": [
    "import ast\n",
    "\n",
    "df = pd.read_csv('../data/train_ready_for_WS_preprocessed.csv', delimiter=';', header=0)\n",
    "df[TYPE] = df[TYPE].apply(ast.literal_eval)\n",
    "grams = df[TYPE]"
   ],
   "metadata": {
    "collapsed": false,
    "ExecuteTime": {
     "end_time": "2024-03-01T14:57:25.566578Z",
     "start_time": "2024-03-01T14:57:25.320249Z"
    }
   },
   "id": "aa1f56c49f19b041",
   "execution_count": 9
  },
  {
   "cell_type": "code",
   "outputs": [],
   "source": [
    "model = gensim.models.Word2Vec(grams)"
   ],
   "metadata": {
    "collapsed": false,
    "ExecuteTime": {
     "end_time": "2024-03-01T14:57:26.036160Z",
     "start_time": "2024-03-01T14:57:25.617650Z"
    }
   },
   "id": "628787bde9f42c69",
   "execution_count": 10
  },
  {
   "cell_type": "code",
   "outputs": [],
   "source": [
    "model.save(f'../data/models/{TYPE}_word2vec.model')"
   ],
   "metadata": {
    "collapsed": false,
    "ExecuteTime": {
     "end_time": "2024-03-01T14:57:26.051197Z",
     "start_time": "2024-03-01T14:57:26.036002Z"
    }
   },
   "id": "28020617ad79d4b6",
   "execution_count": 11
  },
  {
   "cell_type": "code",
   "outputs": [],
   "source": [
    "# to get the vector of a specific word use. ex. 'sad':\n",
    "word = 'sad see'\n",
    "if word in model.wv:\n",
    "    vector = model.wv[word]\n",
    "    print(vector)"
   ],
   "metadata": {
    "collapsed": false,
    "ExecuteTime": {
     "end_time": "2024-03-01T14:57:26.079944Z",
     "start_time": "2024-03-01T14:57:26.053678Z"
    }
   },
   "id": "2b6743c52888227c",
   "execution_count": 12
  },
  {
   "cell_type": "code",
   "outputs": [],
   "source": [],
   "metadata": {
    "collapsed": false,
    "ExecuteTime": {
     "end_time": "2024-03-01T14:57:26.081122Z",
     "start_time": "2024-03-01T14:57:26.060600Z"
    }
   },
   "id": "21641412402aa3dc",
   "execution_count": 12
  }
 ],
 "metadata": {
  "kernelspec": {
   "display_name": "Python 3",
   "language": "python",
   "name": "python3"
  },
  "language_info": {
   "codemirror_mode": {
    "name": "ipython",
    "version": 2
   },
   "file_extension": ".py",
   "mimetype": "text/x-python",
   "name": "python",
   "nbconvert_exporter": "python",
   "pygments_lexer": "ipython2",
   "version": "2.7.6"
  }
 },
 "nbformat": 4,
 "nbformat_minor": 5
}

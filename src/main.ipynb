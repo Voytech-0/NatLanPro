{
 "cells": [
  {
   "cell_type": "markdown",
   "metadata": {},
   "source": [
    "\n",
    "<br>\n",
    "Main file for the SVM_custom project<br>\n",
    "Authors: Wojciech Trejter, Viki Simion, Laura M Quirós<br>\n"
   ]
  },
  {
   "cell_type": "code",
   "execution_count": 1,
   "metadata": {
    "ExecuteTime": {
     "end_time": "2024-03-02T19:46:07.855635Z",
     "start_time": "2024-03-02T19:46:07.849857Z"
    }
   },
   "outputs": [],
   "source": [
    "import ast"
   ]
  },
  {
   "cell_type": "code",
   "outputs": [],
   "source": [
    "import pandas as pd\n",
    "from sklearn.metrics import classification_report\n",
    "from sklearn.model_selection import GridSearchCV\n",
    "from sklearn.svm import SVC"
   ],
   "metadata": {
    "ExecuteTime": {
     "end_time": "2024-03-02T19:46:09.176681Z",
     "start_time": "2024-03-02T19:46:07.857450Z"
    }
   },
   "execution_count": 2
  },
  {
   "cell_type": "code",
   "outputs": [],
   "source": [
    "def one_hot_encoding(train, test):\n",
    "    # get all unique strings from the train[\"emotions\"] and test set\n",
    "    unique_emotions = set(train[\"emotion\"].unique().tolist() + test[\"emotion\"].unique().tolist())\n",
    "    # one hot encode the emotions\n",
    "    dict_one_hot = {}\n",
    "    num = 0\n",
    "    for emotion in unique_emotions:\n",
    "        dict_one_hot[emotion] = num\n",
    "        num += 1\n",
    "    train[\"emotion\"] = train[\"emotion\"].map(dict_one_hot)\n",
    "    test[\"emotion\"] = test[\"emotion\"].map(dict_one_hot)\n",
    "    # save the one hot encoding dictionary\n",
    "    pd.DataFrame.from_dict(data=dict_one_hot, orient='index').to_csv('data/one_hot_encoding.csv', header=False)\n",
    "    return train, test"
   ],
   "metadata": {
    "ExecuteTime": {
     "end_time": "2024-03-02T19:46:09.183584Z",
     "start_time": "2024-03-02T19:46:09.178338Z"
    }
   },
   "execution_count": 3
  },
  {
   "cell_type": "code",
   "outputs": [
    {
     "name": "stdout",
     "output_type": "stream",
     "text": [
      "(1860, 100) (1860,) (270, 100) (270,)\n"
     ]
    }
   ],
   "source": [
    "train = pd.read_csv('data/train_ready_for_WS_vectorized_1-gram.csv', delimiter=';', header=0)\n",
    "test = pd.read_csv('data/test_vectorized_1-gram.csv', delimiter=';', header=0)\n",
    "train['vector_1-gram'] = train['vector_1-gram'].apply(ast.literal_eval)\n",
    "test['vector_1-gram'] = test['vector_1-gram'].apply(ast.literal_eval)\n",
    "train, test = one_hot_encoding(train, test)\n",
    "train_X = train[\"vector_1-gram\"]\n",
    "# make the list of values into columns\n",
    "train_X = pd.DataFrame(train_X.tolist())\n",
    "train_y = train[\"emotion\"]\n",
    "test_X = test[\"vector_1-gram\"]\n",
    "test_X = pd.DataFrame(test_X.tolist())\n",
    "test_y = test[\"emotion\"]\n",
    "\n",
    "print(train_X.shape, train_y.shape, test_X.shape, test_y.shape)"
   ],
   "metadata": {
    "ExecuteTime": {
     "end_time": "2024-03-02T19:46:09.912111Z",
     "start_time": "2024-03-02T19:46:09.185097Z"
    }
   },
   "execution_count": 4
  },
  {
   "cell_type": "code",
   "outputs": [
    {
     "name": "stdout",
     "output_type": "stream",
     "text": [
      "Best parameters: {'C': 5, 'kernel': 'rbf'}, best score: 0.3591397849462365\n"
     ]
    }
   ],
   "source": [
    "params = {\n",
    "    \"kernel\": [\"linear\", \"poly\", \"rbf\", \"sigmoid\"],\n",
    "    \"C\": [2, 3, 5, 7, 10]\n",
    "}\n",
    "svm = SVC()\n",
    "grid_search = GridSearchCV(estimator=svm, param_grid=params, error_score='raise', scoring='accuracy')\n",
    "grid_search.fit(train_X, train_y)\n",
    "best_model = grid_search.best_estimator_\n",
    "print(f\"Best parameters: {grid_search.best_params_}, best score: {grid_search.best_score_}\")\n",
    "   "
   ],
   "metadata": {
    "ExecuteTime": {
     "end_time": "2024-03-02T19:51:13.661972Z",
     "start_time": "2024-03-02T19:46:09.914755Z"
    }
   },
   "execution_count": 5
  },
  {
   "cell_type": "code",
   "outputs": [
    {
     "name": "stdout",
     "output_type": "stream",
     "text": [
      "              precision    recall  f1-score   support\n",
      "\n",
      "           0       0.00      0.00      0.00        76\n",
      "           1       0.00      0.00      0.00        14\n",
      "           2       0.12      0.08      0.10        25\n",
      "           3       0.36      0.93      0.52        98\n",
      "           4       0.00      0.00      0.00        31\n",
      "           5       0.00      0.00      0.00        12\n",
      "           6       0.00      0.00      0.00        14\n",
      "\n",
      "    accuracy                           0.34       270\n",
      "   macro avg       0.07      0.14      0.09       270\n",
      "weighted avg       0.14      0.34      0.20       270\n"
     ]
    },
    {
     "name": "stderr",
     "output_type": "stream",
     "text": [
      "/Users/lauramariaquirosconesa/Documents/BSc/Year3/2ASemester/NLP/NatLanPro/venv/lib/python3.11/site-packages/sklearn/metrics/_classification.py:1509: UndefinedMetricWarning: Precision is ill-defined and being set to 0.0 in labels with no predicted samples. Use `zero_division` parameter to control this behavior.\n",
      "  _warn_prf(average, modifier, f\"{metric.capitalize()} is\", len(result))\n",
      "/Users/lauramariaquirosconesa/Documents/BSc/Year3/2ASemester/NLP/NatLanPro/venv/lib/python3.11/site-packages/sklearn/metrics/_classification.py:1509: UndefinedMetricWarning: Precision is ill-defined and being set to 0.0 in labels with no predicted samples. Use `zero_division` parameter to control this behavior.\n",
      "  _warn_prf(average, modifier, f\"{metric.capitalize()} is\", len(result))\n",
      "/Users/lauramariaquirosconesa/Documents/BSc/Year3/2ASemester/NLP/NatLanPro/venv/lib/python3.11/site-packages/sklearn/metrics/_classification.py:1509: UndefinedMetricWarning: Precision is ill-defined and being set to 0.0 in labels with no predicted samples. Use `zero_division` parameter to control this behavior.\n",
      "  _warn_prf(average, modifier, f\"{metric.capitalize()} is\", len(result))\n"
     ]
    }
   ],
   "source": [
    "results = classification_report(test_y, best_model.predict(test_X))\n",
    "print(results)"
   ],
   "metadata": {
    "collapsed": false,
    "ExecuteTime": {
     "end_time": "2024-03-02T19:51:13.765599Z",
     "start_time": "2024-03-02T19:51:13.663447Z"
    }
   },
   "execution_count": 6
  }
 ],
 "metadata": {
  "kernelspec": {
   "display_name": "Python 3",
   "language": "python",
   "name": "python3"
  },
  "language_info": {
   "codemirror_mode": {
    "name": "ipython",
    "version": 3
   },
   "file_extension": ".py",
   "mimetype": "text/x-python",
   "name": "python",
   "nbconvert_exporter": "python",
   "pygments_lexer": "ipython3",
   "version": "3.6.4"
  }
 },
 "nbformat": 4,
 "nbformat_minor": 2
}

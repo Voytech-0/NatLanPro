{
 "cells": [
  {
   "cell_type": "code",
   "execution_count": null,
   "id": "initial_id",
   "metadata": {
    "collapsed": true,
    "ExecuteTime": {
     "start_time": "2024-03-02T18:05:11.896560Z"
    }
   },
   "outputs": [],
   "source": [
    "import pandas as pd\n",
    "import ast\n",
    "import numpy as np\n",
    "from gensim.models import Word2Vec\n"
   ]
  },
  {
   "cell_type": "code",
   "outputs": [],
   "source": [
    "# filename = '../data/train_ready_for_WS'\n",
    "filename = '../data/test'\n",
    "TYPE = '1-gram'"
   ],
   "metadata": {
    "collapsed": false,
    "ExecuteTime": {
     "end_time": "2024-03-02T18:05:11.902550Z",
     "start_time": "2024-03-02T18:05:11.900069Z"
    }
   },
   "id": "914210c282a4ab97",
   "execution_count": null
  },
  {
   "cell_type": "code",
   "outputs": [],
   "source": [
    "data = pd.read_csv(f\"{filename}_preprocessed.csv\", delimiter=';', header=0)\n",
    "data[TYPE] = data[TYPE].apply(ast.literal_eval)\n",
    "model = Word2Vec.load(f'../data/models/{TYPE}_word2vec.model')\n",
    "tfidf = pd.read_csv(f\"../data/TFIDF_values_ranking_{TYPE}.csv\", delimiter=';', header=0)"
   ],
   "metadata": {
    "collapsed": false,
    "ExecuteTime": {
     "start_time": "2024-03-02T18:05:11.903718Z"
    }
   },
   "id": "60d1fb1f691cc893",
   "execution_count": null
  },
  {
   "cell_type": "code",
   "outputs": [],
   "source": [
    "print(tfidf.head())"
   ],
   "metadata": {
    "collapsed": false,
    "ExecuteTime": {
     "start_time": "2024-03-02T18:05:11.906657Z"
    }
   },
   "id": "3978c9eb44ce6b5",
   "execution_count": null
  },
  {
   "cell_type": "code",
   "outputs": [],
   "source": [
    "vectors = []\n",
    "for essay in data[TYPE]:\n",
    "    vector = np.zeros(100)\n",
    "    for word in essay:\n",
    "        if word in tfidf['term'].values and word in model.wv:\n",
    "            vector += model.wv[word] * tfidf[tfidf['term'] == word]['tfidf'].values[0]\n",
    "    vectors.append(vector.tolist())\n"
   ],
   "metadata": {
    "collapsed": false,
    "ExecuteTime": {
     "end_time": "2024-03-02T18:08:15.894796Z",
     "start_time": "2024-03-02T18:06:21.019537Z"
    }
   },
   "id": "53280f26ad7f448b",
   "execution_count": 118
  },
  {
   "cell_type": "code",
   "outputs": [],
   "source": [
    "data[f'vector_{TYPE}'] = vectors"
   ],
   "metadata": {
    "collapsed": false,
    "ExecuteTime": {
     "end_time": "2024-03-02T18:08:15.905468Z",
     "start_time": "2024-03-02T18:08:15.899551Z"
    }
   },
   "id": "4ca49e4fdc181778",
   "execution_count": 119
  },
  {
   "cell_type": "code",
   "outputs": [],
   "source": [
    "data.to_csv(f\"{filename}_vectorized_{TYPE}.csv\", sep=';', index=False)"
   ],
   "metadata": {
    "collapsed": false,
    "ExecuteTime": {
     "end_time": "2024-03-02T18:08:16.273779Z",
     "start_time": "2024-03-02T18:08:15.903539Z"
    }
   },
   "id": "d403dc2d150b37a3",
   "execution_count": 120
  },
  {
   "cell_type": "code",
   "outputs": [
    {
     "name": "stdout",
     "output_type": "stream",
     "text": [
      "   article_id                                              essay  emotion  \\\n",
      "0          67  really read immigrant article drowned make fee...  sadness   \n",
      "1          86  phone line suicide prevention line election al...  sadness   \n",
      "2         206  matter heritage able serve country thai herita...  neutral   \n",
      "3         290  frightening learn shark attack surfer aware ri...     fear   \n",
      "4         342  generation russian arent treated properly sort...  sadness   \n",
      "\n",
      "                                              tokens  \\\n",
      "0  ['really', 'read', 'immigrant', 'article', 'dr...   \n",
      "1  ['phone', 'line', 'suicide', 'prevention', 'li...   \n",
      "2  ['matter', 'heritage', 'able', 'serve', 'count...   \n",
      "3  ['frightening', 'learn', 'shark', 'attack', 's...   \n",
      "4  ['generation', 'russian', 'arent', 'treated', ...   \n",
      "\n",
      "                                              1-gram  \\\n",
      "0  ['really', 'read', 'immigrant', 'article', 'dr...   \n",
      "1  ['phone', 'line', 'suicide', 'prevention', 'li...   \n",
      "2  ['matter', 'heritage', 'able', 'serve', 'count...   \n",
      "3  ['frightening', 'learn', 'shark', 'attack', 's...   \n",
      "4  ['generation', 'russian', 'arent', 'treated', ...   \n",
      "\n",
      "                                              2-gram  \\\n",
      "0  ['really read', 'read immigrant', 'immigrant a...   \n",
      "1  ['phone line', 'line suicide', 'suicide preven...   \n",
      "2  ['matter heritage', 'heritage able', 'able ser...   \n",
      "3  ['frightening learn', 'learn shark', 'shark at...   \n",
      "4  ['generation russian', 'russian arent', 'arent...   \n",
      "\n",
      "                                       vector_2-gram  \n",
      "0  [-0.010392196127213538, -0.008551465773052769,...  \n",
      "1  [0.006926418165676296, 0.0051521717687137425, ...  \n",
      "2  [-0.0023883985122665763, -0.001202322542667389...  \n",
      "3  [0.004834845429286361, 0.0008584013557992876, ...  \n",
      "4  [-0.011059165350161493, -0.009029454753544996,...  \n",
      "<class 'float'>\n",
      "[-0.010392196127213538, -0.008551465773052769, -0.005263848726826836, 0.03389995638281107, 0.01270689677039627, 0.0006459504511440173, -0.011587709333980456, 0.009745890740305185, 0.017813350539654493, -0.0029189540655352175, 0.01631772033397283, -0.012497408199124038, 0.032534248050069436, 0.0068051253401790746, 0.02617767781339353, -0.025426886335480958, -0.03072587648057379, 0.03103956440463662, -0.026506647176574916, 0.001097006956115365, 0.008939346313127317, 0.016344266885425895, -0.018118314794264734, 0.04028037318494171, -0.0065282180439680815, -0.022526224347529933, 0.01831295996089466, -0.0030200976179912686, -0.04415779886767268, -0.027774357145972317, 0.003641046649136115, -0.02166225363544072, 0.019476433866657317, 0.02461341518210247, -0.006209413957549259, 0.004776311630848795, 0.009820193226914853, 0.037093197228387, 0.01236389932455495, -2.7073081582784653e-05, 0.006721650097460952, -0.007219831735710613, -0.026081592513946816, 0.022320606105495244, -0.010323266498744488, -0.058004793332656845, -0.02299213851802051, -0.005019291695134598, 0.018726171547314152, 0.03717628248705296, 0.021998305222950876, -0.039640780159970745, 0.017165200690214988, -0.016715252189897, -0.023734088172204792, 0.027413765317760408, 0.01578062783664791, -0.023241860180860385, -0.03827690752223134, -0.009673716907855123, -0.0006806654273532331, 0.038466017227619886, 0.036374941730173305, -0.0358503598254174, -0.04211498849326745, 0.01394005335168913, -0.006004563823807985, -0.00346975312277209, 0.014052855432964861, -0.03420402439951431, 0.019826543575618416, 9.102001786231995e-05, -0.027596375672146678, -0.0016813231632113457, 0.024768335511907935, 0.03649755072547123, 0.014696185651700944, 0.021454996298416518, -0.020278302297811024, -0.0015500223889830522, -0.01883462190744467, -0.012604048530192813, -0.015554537763819098, -0.0286976199131459, -0.0373812221987464, 0.02610384562285617, 0.008679035323439166, -0.00858503847848624, -0.006037331659172196, 0.0437939390540123, -0.0023858448257669806, 0.01092364639043808, -0.005782289008493535, 0.030209439733880572, 0.01190061071247328, -0.021604641864541918, -0.000958435790380463, -0.003860571072436869, -0.03177773697018438, -0.008502865413902327]\n"
     ]
    }
   ],
   "source": [
    "loaded = pd.read_csv(f\"{filename}_vectorized_{TYPE}.csv\", delimiter=';', header=0)\n",
    "loaded[f'vector_{TYPE}'] = loaded[f'vector_{TYPE}'].apply(ast.literal_eval)\n",
    "print(loaded.head())\n",
    "print(type(loaded[f'vector_{TYPE}'][0][0]))"
   ],
   "metadata": {
    "collapsed": false,
    "ExecuteTime": {
     "end_time": "2024-03-02T18:10:06.287457Z",
     "start_time": "2024-03-02T18:10:05.339538Z"
    }
   },
   "id": "a4830f9c6afe1755",
   "execution_count": 129
  },
  {
   "cell_type": "code",
   "outputs": [],
   "source": [],
   "metadata": {
    "collapsed": false
   },
   "id": "120ee0d61c1deae3"
  }
 ],
 "metadata": {
  "kernelspec": {
   "display_name": "Python 3",
   "language": "python",
   "name": "python3"
  },
  "language_info": {
   "codemirror_mode": {
    "name": "ipython",
    "version": 2
   },
   "file_extension": ".py",
   "mimetype": "text/x-python",
   "name": "python",
   "nbconvert_exporter": "python",
   "pygments_lexer": "ipython2",
   "version": "2.7.6"
  }
 },
 "nbformat": 4,
 "nbformat_minor": 5
}

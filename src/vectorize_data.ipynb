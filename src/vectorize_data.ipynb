{
 "cells": [
  {
   "cell_type": "code",
   "execution_count": 154,
   "id": "initial_id",
   "metadata": {
    "collapsed": true,
    "ExecuteTime": {
     "end_time": "2024-03-02T18:13:31.666698Z",
     "start_time": "2024-03-02T18:13:31.663163Z"
    }
   },
   "outputs": [],
   "source": [
    "import pandas as pd\n",
    "import ast\n",
    "import numpy as np\n",
    "from gensim.models import Word2Vec\n"
   ]
  },
  {
   "cell_type": "code",
   "outputs": [],
   "source": [
    "filename = '../data/train_ready_for_WS'\n",
    "# filename = '../data/test'\n",
    "TYPE = '1-gram'"
   ],
   "metadata": {
    "collapsed": false,
    "ExecuteTime": {
     "end_time": "2024-03-02T18:13:31.689344Z",
     "start_time": "2024-03-02T18:13:31.675440Z"
    }
   },
   "id": "914210c282a4ab97",
   "execution_count": 155
  },
  {
   "cell_type": "code",
   "outputs": [],
   "source": [
    "data = pd.read_csv(f\"{filename}_preprocessed.csv\", delimiter=';', header=0)\n",
    "data[TYPE] = data[TYPE].apply(ast.literal_eval)\n",
    "model = Word2Vec.load(f'../data/models/{TYPE}_word2vec.model')\n",
    "tfidf = pd.read_csv(f\"../data/TFIDF_values_ranking_{TYPE}.csv\", delimiter=';', header=0)"
   ],
   "metadata": {
    "collapsed": false,
    "ExecuteTime": {
     "end_time": "2024-03-02T18:13:31.880889Z",
     "start_time": "2024-03-02T18:13:31.682108Z"
    }
   },
   "id": "60d1fb1f691cc893",
   "execution_count": 156
  },
  {
   "cell_type": "code",
   "outputs": [
    {
     "name": "stdout",
     "output_type": "stream",
     "text": [
      "       term     tfidf\n",
      "0      line  0.522607\n",
      "1     shark  0.522233\n",
      "2  shouldnt  0.377964\n",
      "3    debate  0.377964\n",
      "4  heritage  0.377964\n"
     ]
    }
   ],
   "source": [
    "print(tfidf.head())"
   ],
   "metadata": {
    "collapsed": false,
    "ExecuteTime": {
     "end_time": "2024-03-02T18:13:31.888284Z",
     "start_time": "2024-03-02T18:13:31.883993Z"
    }
   },
   "id": "3978c9eb44ce6b5",
   "execution_count": 157
  },
  {
   "cell_type": "code",
   "outputs": [],
   "source": [
    "vectors = []\n",
    "for essay in data[TYPE]:\n",
    "    vector = np.zeros(100)\n",
    "    for word in essay:\n",
    "        if word in tfidf['term'].values and word in model.wv:\n",
    "            vector += model.wv[word] * tfidf[tfidf['term'] == word]['tfidf'].values[0]\n",
    "    vectors.append(vector.tolist())\n"
   ],
   "metadata": {
    "collapsed": false,
    "ExecuteTime": {
     "end_time": "2024-03-02T18:13:35.384060Z",
     "start_time": "2024-03-02T18:13:32.015411Z"
    }
   },
   "id": "53280f26ad7f448b",
   "execution_count": 158
  },
  {
   "cell_type": "code",
   "outputs": [],
   "source": [
    "data[f'vector_{TYPE}'] = vectors"
   ],
   "metadata": {
    "collapsed": false,
    "ExecuteTime": {
     "end_time": "2024-03-02T18:13:35.390970Z",
     "start_time": "2024-03-02T18:13:35.386995Z"
    }
   },
   "id": "4ca49e4fdc181778",
   "execution_count": 159
  },
  {
   "cell_type": "code",
   "outputs": [],
   "source": [
    "data.to_csv(f\"{filename}_vectorized_{TYPE}.csv\", sep=';', index=False)"
   ],
   "metadata": {
    "collapsed": false,
    "ExecuteTime": {
     "end_time": "2024-03-02T18:13:35.740872Z",
     "start_time": "2024-03-02T18:13:35.390636Z"
    }
   },
   "id": "d403dc2d150b37a3",
   "execution_count": 160
  },
  {
   "cell_type": "code",
   "outputs": [
    {
     "name": "stdout",
     "output_type": "stream",
     "text": [
      "   article_id                                              essay  emotion  \\\n",
      "0          67  really read immigrant article drowned make fee...  sadness   \n",
      "1          86  phone line suicide prevention line election al...  sadness   \n",
      "2         206  matter heritage able serve country thai herita...  neutral   \n",
      "3         290  frightening learn shark attack surfer aware ri...     fear   \n",
      "4         342  generation russian arent treated properly sort...  sadness   \n",
      "\n",
      "                                              tokens  \\\n",
      "0  ['really', 'read', 'immigrant', 'article', 'dr...   \n",
      "1  ['phone', 'line', 'suicide', 'prevention', 'li...   \n",
      "2  ['matter', 'heritage', 'able', 'serve', 'count...   \n",
      "3  ['frightening', 'learn', 'shark', 'attack', 's...   \n",
      "4  ['generation', 'russian', 'arent', 'treated', ...   \n",
      "\n",
      "                                              1-gram  \\\n",
      "0  ['really', 'read', 'immigrant', 'article', 'dr...   \n",
      "1  ['phone', 'line', 'suicide', 'prevention', 'li...   \n",
      "2  ['matter', 'heritage', 'able', 'serve', 'count...   \n",
      "3  ['frightening', 'learn', 'shark', 'attack', 's...   \n",
      "4  ['generation', 'russian', 'arent', 'treated', ...   \n",
      "\n",
      "                                              2-gram  \\\n",
      "0  ['really read', 'read immigrant', 'immigrant a...   \n",
      "1  ['phone line', 'line suicide', 'suicide preven...   \n",
      "2  ['matter heritage', 'heritage able', 'able ser...   \n",
      "3  ['frightening learn', 'learn shark', 'shark at...   \n",
      "4  ['generation russian', 'russian arent', 'arent...   \n",
      "\n",
      "                                       vector_1-gram  \n",
      "0  [-0.662506748107262, 1.2388624291634187, 0.644...  \n",
      "1  [-0.5488312743837014, 0.9832117466721684, 0.52...  \n",
      "2  [-0.41773923457367346, 0.7676059254445136, 0.4...  \n",
      "3  [-0.33168724679853767, 0.6174468512181193, 0.3...  \n",
      "4  [-0.6684013310587034, 1.236989145167172, 0.647...  \n",
      "<class 'float'>\n"
     ]
    }
   ],
   "source": [
    "loaded = pd.read_csv(f\"{filename}_vectorized_{TYPE}.csv\", delimiter=';', header=0)\n",
    "loaded[f'vector_{TYPE}'] = loaded[f'vector_{TYPE}'].apply(ast.literal_eval)\n",
    "print(loaded.head())\n",
    "print(type(loaded[f'vector_{TYPE}'][0][0]))"
   ],
   "metadata": {
    "collapsed": false,
    "ExecuteTime": {
     "end_time": "2024-03-02T18:13:36.290762Z",
     "start_time": "2024-03-02T18:13:35.744706Z"
    }
   },
   "id": "a4830f9c6afe1755",
   "execution_count": 161
  },
  {
   "cell_type": "code",
   "outputs": [],
   "source": [],
   "metadata": {
    "collapsed": false,
    "ExecuteTime": {
     "end_time": "2024-03-02T18:13:36.291143Z",
     "start_time": "2024-03-02T18:13:36.287238Z"
    }
   },
   "id": "120ee0d61c1deae3",
   "execution_count": 161
  }
 ],
 "metadata": {
  "kernelspec": {
   "display_name": "Python 3",
   "language": "python",
   "name": "python3"
  },
  "language_info": {
   "codemirror_mode": {
    "name": "ipython",
    "version": 2
   },
   "file_extension": ".py",
   "mimetype": "text/x-python",
   "name": "python",
   "nbconvert_exporter": "python",
   "pygments_lexer": "ipython2",
   "version": "2.7.6"
  }
 },
 "nbformat": 4,
 "nbformat_minor": 5
}

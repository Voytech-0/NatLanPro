{
 "cells": [
  {
   "cell_type": "code",
   "execution_count": 25,
   "id": "initial_id",
   "metadata": {
    "collapsed": true,
    "ExecuteTime": {
     "end_time": "2024-03-02T17:12:29.378754Z",
     "start_time": "2024-03-02T17:12:29.375326Z"
    }
   },
   "outputs": [],
   "source": [
    "import pandas as pd\n",
    "import ast\n",
    "from gensim.models import Word2Vec\n"
   ]
  },
  {
   "cell_type": "code",
   "outputs": [],
   "source": [
    "filename = '../data/train_ready_for_WS'\n",
    "# filename = '../data/test'\n",
    "TYPE = '1-gram'"
   ],
   "metadata": {
    "collapsed": false,
    "ExecuteTime": {
     "end_time": "2024-03-02T17:12:29.389212Z",
     "start_time": "2024-03-02T17:12:29.382686Z"
    }
   },
   "id": "914210c282a4ab97",
   "execution_count": 26
  },
  {
   "cell_type": "code",
   "outputs": [],
   "source": [
    "data = pd.read_csv(f\"{filename}_preprocessed.csv\", delimiter=';', header=0)\n",
    "data[TYPE] = data[TYPE].apply(ast.literal_eval)\n",
    "model = Word2Vec.load(f'../data/models/{TYPE}_word2vec.model')\n",
    "tfidf = pd.read_csv(f\"../data/TFIDF_values_ranking_{TYPE}.csv\", delimiter=';', header=0)"
   ],
   "metadata": {
    "collapsed": false,
    "ExecuteTime": {
     "end_time": "2024-03-02T17:12:29.469172Z",
     "start_time": "2024-03-02T17:12:29.390503Z"
    }
   },
   "id": "60d1fb1f691cc893",
   "execution_count": 27
  },
  {
   "cell_type": "code",
   "outputs": [
    {
     "name": "stdout",
     "output_type": "stream",
     "text": [
      "       term     tfidf\n",
      "0      line  0.522607\n",
      "1     shark  0.522233\n",
      "2  shouldnt  0.377964\n",
      "3    debate  0.377964\n",
      "4  heritage  0.377964\n"
     ]
    }
   ],
   "source": [
    "print(tfidf.head())"
   ],
   "metadata": {
    "collapsed": false,
    "ExecuteTime": {
     "end_time": "2024-03-02T17:12:29.476966Z",
     "start_time": "2024-03-02T17:12:29.472381Z"
    }
   },
   "id": "3978c9eb44ce6b5",
   "execution_count": 28
  },
  {
   "cell_type": "code",
   "outputs": [],
   "source": [
    "vectors = []\n",
    "for essay in data[TYPE]:\n",
    "    vector = [0] * 100 # hardcoded size of the vector\n",
    "    for word in essay:\n",
    "        if word in tfidf['term'].values and word in model.wv:\n",
    "            vector += model.wv[word] * tfidf[tfidf['term'] == word]['tfidf'].values[0]\n",
    "    vectors.append(vector)\n"
   ],
   "metadata": {
    "collapsed": false,
    "ExecuteTime": {
     "end_time": "2024-03-02T17:12:30.100621Z",
     "start_time": "2024-03-02T17:12:29.784388Z"
    }
   },
   "id": "53280f26ad7f448b",
   "execution_count": 29
  },
  {
   "cell_type": "code",
   "outputs": [],
   "source": [
    "data[f'vector_{TYPE}'] = vectors"
   ],
   "metadata": {
    "collapsed": false,
    "ExecuteTime": {
     "end_time": "2024-03-02T17:12:30.108566Z",
     "start_time": "2024-03-02T17:12:30.100669Z"
    }
   },
   "id": "4ca49e4fdc181778",
   "execution_count": 30
  },
  {
   "cell_type": "code",
   "outputs": [],
   "source": [
    "data.to_csv(f\"{filename}_vectorized_{TYPE}.csv\", sep=';', index=False)"
   ],
   "metadata": {
    "collapsed": false,
    "ExecuteTime": {
     "end_time": "2024-03-02T17:12:30.287681Z",
     "start_time": "2024-03-02T17:12:30.107781Z"
    }
   },
   "id": "d403dc2d150b37a3",
   "execution_count": 31
  }
 ],
 "metadata": {
  "kernelspec": {
   "display_name": "Python 3",
   "language": "python",
   "name": "python3"
  },
  "language_info": {
   "codemirror_mode": {
    "name": "ipython",
    "version": 2
   },
   "file_extension": ".py",
   "mimetype": "text/x-python",
   "name": "python",
   "nbconvert_exporter": "python",
   "pygments_lexer": "ipython2",
   "version": "2.7.6"
  }
 },
 "nbformat": 4,
 "nbformat_minor": 5
}

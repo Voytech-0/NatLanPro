{
 "cells": [
  {
   "cell_type": "code",
   "execution_count": 1,
   "id": "initial_id",
   "metadata": {
    "collapsed": true,
    "ExecuteTime": {
     "end_time": "2024-02-29T16:39:46.825475700Z",
     "start_time": "2024-02-29T16:39:40.574969700Z"
    }
   },
   "outputs": [
    {
     "name": "stderr",
     "output_type": "stream",
     "text": [
      "[nltk_data] Downloading package punkt to\n",
      "[nltk_data]     C:\\Users\\Viki\\AppData\\Roaming\\nltk_data...\n",
      "[nltk_data]   Package punkt is already up-to-date!\n",
      "[nltk_data] Downloading package wordnet to\n",
      "[nltk_data]     C:\\Users\\Viki\\AppData\\Roaming\\nltk_data...\n",
      "[nltk_data] Downloading package stopwords to\n",
      "[nltk_data]     C:\\Users\\Viki\\AppData\\Roaming\\nltk_data...\n",
      "[nltk_data]   Unzipping corpora\\stopwords.zip.\n"
     ]
    },
    {
     "data": {
      "text/plain": "True"
     },
     "execution_count": 1,
     "metadata": {},
     "output_type": "execute_result"
    }
   ],
   "source": [
    "import pandas as pd\n",
    "\n",
    "import nltk\n",
    "from nltk.stem import WordNetLemmatizer\n",
    "from nltk.tokenize import word_tokenize\n",
    "from nltk.corpus import stopwords\n",
    "from nltk import ngrams\n",
    "\n",
    "nltk.download('punkt')\n",
    "nltk.download('wordnet')\n",
    "nltk.download('stopwords')"
   ]
  },
  {
   "cell_type": "code",
   "outputs": [],
   "source": [
    "# load the data in csv format using pandas\n",
    "data = pd.read_csv('../data/train_ready_for_WS.csv', delimiter=';', header=0)"
   ],
   "metadata": {
    "collapsed": false,
    "ExecuteTime": {
     "end_time": "2024-02-29T16:41:54.582766500Z",
     "start_time": "2024-02-29T16:41:54.556779400Z"
    }
   },
   "id": "88d1d9afd52dafe8",
   "execution_count": 4
  },
  {
   "cell_type": "code",
   "outputs": [
    {
     "name": "stdout",
     "output_type": "stream",
     "text": [
      "Wow, how dare this person hurt a poor flamingo for no reason!? Why would some random dude go to Busch Gardens and abuse a bird who was minding its own business? Poor bird had to be euthanized because of its injuries! The bird was 19 years old! It seems that there may have to be some sort of background check or mental health testing before you are even allowed to visit a place like this.Just unbelievable the way things happen! Soooo SAD!\n"
     ]
    }
   ],
   "source": [
    "print(data['essay'][91])"
   ],
   "metadata": {
    "collapsed": false,
    "ExecuteTime": {
     "end_time": "2024-02-29T16:41:54.966469100Z",
     "start_time": "2024-02-29T16:41:54.954511100Z"
    }
   },
   "id": "f7bfd94dfe83689a",
   "execution_count": 5
  },
  {
   "cell_type": "code",
   "outputs": [],
   "source": [
    "# remove numbers, punctuation and make everything lowercase\n",
    "data['essay'] = data['essay'].str.replace('\\d+', '', regex=True)\n",
    "data['essay'] = data['essay'].str.replace('[^\\w\\s]','', regex=True)\n",
    "data['essay'] = data['essay'].str.lower()"
   ],
   "metadata": {
    "collapsed": false,
    "ExecuteTime": {
     "end_time": "2024-02-29T16:41:55.564218Z",
     "start_time": "2024-02-29T16:41:55.539218200Z"
    }
   },
   "id": "5375d4c3a05d04bc",
   "execution_count": 6
  },
  {
   "cell_type": "code",
   "outputs": [
    {
     "name": "stdout",
     "output_type": "stream",
     "text": [
      "wow how dare this person hurt a poor flamingo for no reason why would some random dude go to busch gardens and abuse a bird who was minding its own business poor bird had to be euthanized because of its injuries the bird was  years old it seems that there may have to be some sort of background check or mental health testing before you are even allowed to visit a place like thisjust unbelievable the way things happen soooo sad\n"
     ]
    }
   ],
   "source": [
    "print(data['essay'][91])"
   ],
   "metadata": {
    "collapsed": false,
    "ExecuteTime": {
     "end_time": "2024-02-29T16:41:56.617174300Z",
     "start_time": "2024-02-29T16:41:56.606028100Z"
    }
   },
   "id": "b923d04fb820f3c8",
   "execution_count": 7
  },
  {
   "cell_type": "code",
   "outputs": [],
   "source": [
    "# stopword removal\n",
    "stop = stopwords.words('english')\n",
    "data['essay'] = data['essay'].apply(lambda x: ' '.join([word for word in x.split() if word not in (stop)]))"
   ],
   "metadata": {
    "collapsed": false,
    "ExecuteTime": {
     "end_time": "2024-02-29T16:41:57.516746600Z",
     "start_time": "2024-02-29T16:41:57.387099Z"
    }
   },
   "id": "7a9a53e30836ea10",
   "execution_count": 8
  },
  {
   "cell_type": "code",
   "outputs": [
    {
     "name": "stdout",
     "output_type": "stream",
     "text": [
      "wow dare person hurt poor flamingo reason would random dude go busch gardens abuse bird minding business poor bird euthanized injuries bird years old seems may sort background check mental health testing even allowed visit place like thisjust unbelievable way things happen soooo sad\n"
     ]
    }
   ],
   "source": [
    "print(data['essay'][91])"
   ],
   "metadata": {
    "collapsed": false,
    "ExecuteTime": {
     "end_time": "2024-02-29T16:41:58.291046100Z",
     "start_time": "2024-02-29T16:41:58.282874100Z"
    }
   },
   "id": "25db73509d85e28f",
   "execution_count": 9
  },
  {
   "cell_type": "code",
   "outputs": [],
   "source": [
    "# lemmatization\n",
    "lemmatizer = WordNetLemmatizer()\n",
    "def lemmatize_text(text):\n",
    "    tokens = word_tokenize(text)\n",
    "    lemmatized_tokens = [lemmatizer.lemmatize(token) for token in tokens]\n",
    "    return ' '.join(lemmatized_tokens)\n",
    "data['essay'] = data['essay'].apply(lemmatize_text)"
   ],
   "metadata": {
    "collapsed": false,
    "ExecuteTime": {
     "end_time": "2024-02-29T16:42:01.449921Z",
     "start_time": "2024-02-29T16:41:59.702497800Z"
    }
   },
   "id": "4f983796e1e263d6",
   "execution_count": 10
  },
  {
   "cell_type": "code",
   "outputs": [
    {
     "name": "stdout",
     "output_type": "stream",
     "text": [
      "wow dare person hurt poor flamingo reason would random dude go busch garden abuse bird minding business poor bird euthanized injury bird year old seems may sort background check mental health testing even allowed visit place like thisjust unbelievable way thing happen soooo sad\n"
     ]
    }
   ],
   "source": [
    "print(data['essay'][91])"
   ],
   "metadata": {
    "collapsed": false,
    "ExecuteTime": {
     "end_time": "2024-02-29T16:42:01.453584100Z",
     "start_time": "2024-02-29T16:42:01.450983100Z"
    }
   },
   "id": "a232afff82150466",
   "execution_count": 11
  },
  {
   "cell_type": "code",
   "outputs": [],
   "source": [
    "# remove words which occur only once\n",
    "from collections import Counter\n",
    "cnt = Counter()\n",
    "for text in data['essay'].values:\n",
    "    for word in text.split():\n",
    "        cnt[word] += 1\n",
    "\n",
    "# create a set of words that occur only once\n",
    "once_occurred_words = {word for word, count in cnt.items() if count == 1}\n",
    "\n",
    "# iterate over the 'essay' column and remove the words that occur only once\n",
    "data['essay'] = data['essay'].apply(lambda x: ' '.join([word for word in x.split() if word not in once_occurred_words]))"
   ],
   "metadata": {
    "collapsed": false,
    "ExecuteTime": {
     "end_time": "2024-02-29T16:42:01.496035500Z",
     "start_time": "2024-02-29T16:42:01.453638300Z"
    }
   },
   "id": "eb917c0084efc38b",
   "execution_count": 12
  },
  {
   "cell_type": "code",
   "outputs": [
    {
     "name": "stdout",
     "output_type": "stream",
     "text": [
      "wow dare person hurt poor flamingo reason would random dude go busch garden abuse bird minding business poor bird injury bird year old seems may sort background check mental health testing even allowed visit place like unbelievable way thing happen sad\n"
     ]
    }
   ],
   "source": [
    "print(data['essay'][91])"
   ],
   "metadata": {
    "collapsed": false,
    "ExecuteTime": {
     "end_time": "2024-02-29T16:42:03.851990700Z",
     "start_time": "2024-02-29T16:42:03.843934100Z"
    }
   },
   "id": "89065052f35fa2fc",
   "execution_count": 13
  },
  {
   "cell_type": "code",
   "outputs": [],
   "source": [
    "# 1-gram and bi-gram extraction\n",
    "# Tokenize the essays into words\n",
    "data['tokens'] = data['essay'].apply(word_tokenize)\n",
    "\n",
    "# Function to extract n-grams from a list of tokens\n",
    "def extract_ngrams(tokens, n):\n",
    "    return list(ngrams(tokens, n))\n",
    "\n",
    "# Extract 1-grams and 2-grams\n",
    "data['1-gram'] = data['tokens'].apply(lambda x: extract_ngrams(x, 1))\n",
    "data['2-gram'] = data['tokens'].apply(lambda x: extract_ngrams(x, 2))\n",
    "\n",
    "# Convert the n-grams to strings for easier representation\n",
    "data['1-gram'] = data['1-gram'].apply(lambda x: [' '.join(gram) for gram in x])\n",
    "data['2-gram'] = data['2-gram'].apply(lambda x: [' '.join(gram) for gram in x])\n",
    "\n",
    "# Convert the lists of n-grams to DataFrames\n",
    "data['1-gram'] = pd.DataFrame(data['1-gram'])\n",
    "data['2-gram'] = pd.DataFrame(data['2-gram'])"
   ],
   "metadata": {
    "collapsed": false,
    "ExecuteTime": {
     "end_time": "2024-02-29T16:42:05.203732Z",
     "start_time": "2024-02-29T16:42:04.971847200Z"
    }
   },
   "id": "95b3506f40cb2a54",
   "execution_count": 14
  },
  {
   "cell_type": "code",
   "outputs": [
    {
     "name": "stdout",
     "output_type": "stream",
     "text": [
      "['wow dare', 'dare person', 'person hurt', 'hurt poor', 'poor flamingo', 'flamingo reason', 'reason would', 'would random', 'random dude', 'dude go', 'go busch', 'busch garden', 'garden abuse', 'abuse bird', 'bird minding', 'minding business', 'business poor', 'poor bird', 'bird injury', 'injury bird', 'bird year', 'year old', 'old seems', 'seems may', 'may sort', 'sort background', 'background check', 'check mental', 'mental health', 'health testing', 'testing even', 'even allowed', 'allowed visit', 'visit place', 'place like', 'like unbelievable', 'unbelievable way', 'way thing', 'thing happen', 'happen sad']\n"
     ]
    }
   ],
   "source": [
    "print(data['2-gram'][91])"
   ],
   "metadata": {
    "collapsed": false,
    "ExecuteTime": {
     "end_time": "2024-02-29T16:42:06.009660900Z",
     "start_time": "2024-02-29T16:42:06.004075300Z"
    }
   },
   "id": "b6ef59b033b56212",
   "execution_count": 15
  },
  {
   "cell_type": "code",
   "outputs": [],
   "source": [
    "# save the preprocessed data\n",
    "data.to_csv('../data/train_ready_for_WS_preprocessed.csv', sep=';', index=False)"
   ],
   "metadata": {
    "collapsed": false,
    "ExecuteTime": {
     "end_time": "2024-02-29T16:42:08.464437500Z",
     "start_time": "2024-02-29T16:42:08.383809Z"
    }
   },
   "id": "e77bbc7675aa7cde",
   "execution_count": 16
  },
  {
   "cell_type": "code",
   "outputs": [],
   "source": [],
   "metadata": {
    "collapsed": false
   },
   "id": "cd96acec4c4eccec"
  }
 ],
 "metadata": {
  "kernelspec": {
   "display_name": "Python 3",
   "language": "python",
   "name": "python3"
  },
  "language_info": {
   "codemirror_mode": {
    "name": "ipython",
    "version": 2
   },
   "file_extension": ".py",
   "mimetype": "text/x-python",
   "name": "python",
   "nbconvert_exporter": "python",
   "pygments_lexer": "ipython2",
   "version": "2.7.6"
  }
 },
 "nbformat": 4,
 "nbformat_minor": 5
}

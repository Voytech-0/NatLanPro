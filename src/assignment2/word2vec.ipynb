{
 "cells": [
  {
   "cell_type": "code",
   "execution_count": 7,
   "id": "initial_id",
   "metadata": {
    "collapsed": true,
    "ExecuteTime": {
     "end_time": "2024-03-02T16:42:18.908114Z",
     "start_time": "2024-03-02T16:42:18.897941Z"
    }
   },
   "outputs": [],
   "source": [
    "from nltk.test.gensim_fixt import setup_module\n",
    "import pandas as pd\n",
    "import gensim\n",
    "\n",
    "# setup_module()"
   ]
  },
  {
   "cell_type": "code",
   "outputs": [],
   "source": [
    "TYPE = '2-gram'"
   ],
   "metadata": {
    "collapsed": false,
    "ExecuteTime": {
     "end_time": "2024-03-02T16:42:18.933216Z",
     "start_time": "2024-03-02T16:42:18.913126Z"
    }
   },
   "id": "d3a75e48f23ab226",
   "execution_count": 8
  },
  {
   "cell_type": "code",
   "outputs": [],
   "source": [
    "import ast\n",
    "\n",
    "df = pd.read_csv('../data/train_ready_for_WS_preprocessed.csv', delimiter=';', header=0)\n",
    "df[TYPE] = df[TYPE].apply(ast.literal_eval)\n",
    "grams = df[TYPE]"
   ],
   "metadata": {
    "collapsed": false,
    "ExecuteTime": {
     "end_time": "2024-03-02T16:42:19.096383Z",
     "start_time": "2024-03-02T16:42:18.920971Z"
    }
   },
   "id": "aa1f56c49f19b041",
   "execution_count": 9
  },
  {
   "cell_type": "code",
   "outputs": [],
   "source": [
    "model = gensim.models.Word2Vec(grams, min_count=2, window=3)"
   ],
   "metadata": {
    "collapsed": false,
    "ExecuteTime": {
     "end_time": "2024-03-02T16:42:19.403154Z",
     "start_time": "2024-03-02T16:42:19.137470Z"
    }
   },
   "id": "628787bde9f42c69",
   "execution_count": 10
  },
  {
   "cell_type": "code",
   "outputs": [],
   "source": [
    "model.save(f'../data/models/{TYPE}_word2vec.model')"
   ],
   "metadata": {
    "collapsed": false,
    "ExecuteTime": {
     "end_time": "2024-03-02T16:42:19.449407Z",
     "start_time": "2024-03-02T16:42:19.406584Z"
    }
   },
   "id": "28020617ad79d4b6",
   "execution_count": 11
  },
  {
   "cell_type": "code",
   "outputs": [],
   "source": [
    "# to get the vector of a specific word use. ex. 'sad':\n",
    "word = 'sad see'\n",
    "if word in model.wv:\n",
    "    vector = model.wv[word]\n",
    "    print(vector)"
   ],
   "metadata": {
    "collapsed": false,
    "ExecuteTime": {
     "end_time": "2024-03-02T16:42:19.449861Z",
     "start_time": "2024-03-02T16:42:19.444389Z"
    }
   },
   "id": "2b6743c52888227c",
   "execution_count": 12
  },
  {
   "cell_type": "code",
   "outputs": [],
   "source": [],
   "metadata": {
    "collapsed": false,
    "ExecuteTime": {
     "end_time": "2024-03-02T16:42:19.450145Z",
     "start_time": "2024-03-02T16:42:19.444776Z"
    }
   },
   "id": "21641412402aa3dc",
   "execution_count": 12
  }
 ],
 "metadata": {
  "kernelspec": {
   "display_name": "Python 3",
   "language": "python",
   "name": "python3"
  },
  "language_info": {
   "codemirror_mode": {
    "name": "ipython",
    "version": 2
   },
   "file_extension": ".py",
   "mimetype": "text/x-python",
   "name": "python",
   "nbconvert_exporter": "python",
   "pygments_lexer": "ipython2",
   "version": "2.7.6"
  }
 },
 "nbformat": 4,
 "nbformat_minor": 5
}

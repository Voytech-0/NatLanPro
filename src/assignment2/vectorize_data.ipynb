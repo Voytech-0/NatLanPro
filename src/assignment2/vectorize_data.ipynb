{
 "cells": [
  {
   "cell_type": "code",
   "execution_count": 1,
   "id": "initial_id",
   "metadata": {
    "collapsed": true,
    "ExecuteTime": {
     "end_time": "2024-03-02T18:35:05.368070Z",
     "start_time": "2024-03-02T18:35:03.496844Z"
    }
   },
   "outputs": [],
   "source": [
    "import pandas as pd\n",
    "import ast\n",
    "import numpy as np\n",
    "from gensim.models import Word2Vec\n"
   ]
  },
  {
   "cell_type": "code",
   "outputs": [],
   "source": [
    "filename = '../data/train_ready_for_WS'\n",
    "# filename = '../data/test'\n",
    "TYPE = '1-gram'"
   ],
   "metadata": {
    "collapsed": false,
    "ExecuteTime": {
     "end_time": "2024-03-02T18:35:05.374589Z",
     "start_time": "2024-03-02T18:35:05.367083Z"
    }
   },
   "id": "914210c282a4ab97",
   "execution_count": 2
  },
  {
   "cell_type": "code",
   "outputs": [],
   "source": [
    "data = pd.read_csv(f\"{filename}_preprocessed.csv\", delimiter=';', header=0)\n",
    "data[TYPE] = data[TYPE].apply(ast.literal_eval)\n",
    "model = Word2Vec.load(f'../data/models/{TYPE}_word2vec.model')\n",
    "tfidf = pd.read_csv(f\"../data/TFIDF_values_ranking_{TYPE}.csv\", delimiter=';', header=0)"
   ],
   "metadata": {
    "collapsed": false,
    "ExecuteTime": {
     "end_time": "2024-03-02T18:35:05.580762Z",
     "start_time": "2024-03-02T18:35:05.370792Z"
    }
   },
   "id": "60d1fb1f691cc893",
   "execution_count": 3
  },
  {
   "cell_type": "code",
   "outputs": [
    {
     "name": "stdout",
     "output_type": "stream",
     "text": [
      "       term     tfidf\n",
      "0      line  0.522607\n",
      "1     shark  0.522233\n",
      "2  shouldnt  0.377964\n",
      "3    debate  0.377964\n",
      "4  heritage  0.377964\n"
     ]
    }
   ],
   "source": [
    "print(tfidf.head())"
   ],
   "metadata": {
    "collapsed": false,
    "ExecuteTime": {
     "end_time": "2024-03-02T18:35:05.591388Z",
     "start_time": "2024-03-02T18:35:05.583669Z"
    }
   },
   "id": "3978c9eb44ce6b5",
   "execution_count": 4
  },
  {
   "cell_type": "code",
   "outputs": [],
   "source": [
    "vectors = []\n",
    "for essay in data[TYPE]:\n",
    "    vector = np.zeros(100)\n",
    "    for word in essay:\n",
    "        if word in tfidf['term'].values and word in model.wv:\n",
    "            vector += model.wv[word] * tfidf[tfidf['term'] == word]['tfidf'].values[0]\n",
    "    vectors.append(vector.tolist())\n"
   ],
   "metadata": {
    "collapsed": false,
    "ExecuteTime": {
     "end_time": "2024-03-02T18:35:09.169167Z",
     "start_time": "2024-03-02T18:35:05.599011Z"
    }
   },
   "id": "53280f26ad7f448b",
   "execution_count": 5
  },
  {
   "cell_type": "code",
   "outputs": [],
   "source": [
    "data[f'vector_{TYPE}'] = vectors"
   ],
   "metadata": {
    "collapsed": false,
    "ExecuteTime": {
     "end_time": "2024-03-02T18:35:09.174520Z",
     "start_time": "2024-03-02T18:35:09.170579Z"
    }
   },
   "id": "4ca49e4fdc181778",
   "execution_count": 6
  },
  {
   "cell_type": "code",
   "outputs": [],
   "source": [
    "data.to_csv(f\"{filename}_vectorized_{TYPE}.csv\", sep=';', index=False)"
   ],
   "metadata": {
    "collapsed": false,
    "ExecuteTime": {
     "end_time": "2024-03-02T18:35:09.526097Z",
     "start_time": "2024-03-02T18:35:09.174586Z"
    }
   },
   "id": "d403dc2d150b37a3",
   "execution_count": 7
  },
  {
   "cell_type": "code",
   "outputs": [
    {
     "name": "stdout",
     "output_type": "stream",
     "text": [
      "<class 'list'>\n",
      "<class 'float'>\n"
     ]
    }
   ],
   "source": [
    "loaded = pd.read_csv(f\"{filename}_vectorized_{TYPE}.csv\", delimiter=';', header=0)\n",
    "loaded[f'vector_{TYPE}'] = loaded[f'vector_{TYPE}'].apply(ast.literal_eval)\n",
    "# print(loaded.head())\n",
    "print(type(loaded[f'vector_{TYPE}'][0]))\n",
    "print(type(loaded[f'vector_{TYPE}'][0][0]))"
   ],
   "metadata": {
    "collapsed": false,
    "ExecuteTime": {
     "end_time": "2024-03-02T18:35:16.789956Z",
     "start_time": "2024-03-02T18:35:16.091368Z"
    }
   },
   "id": "a4830f9c6afe1755",
   "execution_count": 9
  },
  {
   "cell_type": "code",
   "outputs": [],
   "source": [],
   "metadata": {
    "collapsed": false,
    "ExecuteTime": {
     "end_time": "2024-03-02T18:35:10.079507Z",
     "start_time": "2024-03-02T18:35:10.076515Z"
    }
   },
   "id": "120ee0d61c1deae3",
   "execution_count": 8
  }
 ],
 "metadata": {
  "kernelspec": {
   "display_name": "Python 3",
   "language": "python",
   "name": "python3"
  },
  "language_info": {
   "codemirror_mode": {
    "name": "ipython",
    "version": 2
   },
   "file_extension": ".py",
   "mimetype": "text/x-python",
   "name": "python",
   "nbconvert_exporter": "python",
   "pygments_lexer": "ipython2",
   "version": "2.7.6"
  }
 },
 "nbformat": 4,
 "nbformat_minor": 5
}
